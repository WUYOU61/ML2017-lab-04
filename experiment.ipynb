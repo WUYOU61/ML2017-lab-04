{
 "cells": [
  {
   "cell_type": "code",
   "execution_count": 1,
   "metadata": {},
   "outputs": [
    {
     "data": {
      "image/png": "[encoded data removed]",
      "text/plain": [
       "<matplotlib.figure.Figure at 0x112208128>"
      ]
     },
     "metadata": {},
     "output_type": "display_data"
    }
   ],
   "source": [
    "#!/Users/wuyou/anaconda2/envs/py3/\n",
    "# -*- coding: utf-8 -*-\n",
    "\n",
    "%matplotlib inline\n",
    "import matplotlib.pyplot as plt\n",
    "import numpy\n",
    "import random\n",
    "\n",
    "def loadMovieLensTrain(filename='u1.base'):\n",
    "    '''\n",
    "    将原始测试集文件读入，并以二维字典的形式存储数据\n",
    "    '''\n",
    "    str1 ='./ml-100k/'\n",
    "\n",
    "    prefs={}\n",
    "    for line in open(str1+filename,'r'):\n",
    "        (user,movieid,rating,ts)=line.split('\\t')\n",
    "        prefs.setdefault(user,{}) #设定默认值为None\n",
    "        prefs[user][movieid]=float(rating)\n",
    "    return prefs\n",
    "\n",
    "def loadMovieLensTest(filename='u1.test'):\n",
    "    '''\n",
    "    将原始训练集文件读入，并以二维字典的形式存储数据\n",
    "    '''\n",
    "    str1 ='./ml-100k/'\n",
    "\n",
    "    prefs={}\n",
    "    for line in open(str1+filename,'r'):\n",
    "        (user,movieid,rating,ts)=line.split('\\t')\n",
    "        prefs.setdefault(user,{}) #设定默认值为None\n",
    "        prefs[user][movieid]=float(rating)\n",
    "    return prefs\n",
    "\n",
    "def transfer_Matrix(M):\n",
    "    '''\n",
    "    将读入的数据转换成numpy矩阵以便于后续处理\n",
    "    '''\n",
    "    R=numpy.zeros((943,1682))\n",
    "    for user,items in M.items():\n",
    "        for item,values in items.items():\n",
    "            R[int(user)-1][int(item)-1]=values\n",
    "\n",
    "    return R\n",
    "\n",
    "def matrix_factorization_SGD(R, tR, P, Q, steps=1000, alpha=0.0002, lambda_P=0.02,lambda_Q=0.02):\n",
    "    e_diff=numpy.zeros(tR.shape)\n",
    "    counts=[]\n",
    "    for step in range(steps):\n",
    "        e = 0\n",
    "        for i in range(len(tR)):\n",
    "            pu2=numpy.dot(P[i,:],P[i,:].T)\n",
    "            e = e + lambda_P*pu2\n",
    "            for j in range(len(tR[i])):\n",
    "                qi2=numpy.dot(Q[:,j].T,Q[:,j])\n",
    "                e = e + lambda_Q*qi2\n",
    "                if tR[i][j] > 0:\n",
    "                    e = e + pow(tR[i][j] - numpy.dot(P[i,:],Q[:,j]), 2)\n",
    "        counts.append(e)\n",
    "        #if step % 1 ==0:\n",
    "        #    counts.append(e)\n",
    "        #    print(\"Cost after %i th iteration:%f\"%(step,e))\n",
    "        if e < 0.001:\n",
    "            break\n",
    "        \n",
    "        #使用sgd更新p和q的参数\n",
    "        u=random.randint(1,R.shape[0])-1\n",
    "        i=random.randint(1,R.shape[1])-1\n",
    "        E_ui=R[u][i]-numpy.dot(P[u,:],Q[:,i])\n",
    "        P[u,:]=P[u,:]+alpha*2*(E_ui*Q[:,i].T-lambda_P*P[u,:])\n",
    "        Q[:,i]=Q[:,i]+alpha*2*(E_ui*P[u,:].T-lambda_Q*Q[:,i])\n",
    "\n",
    "    return P, Q.T, numpy.array(counts)\n",
    "\n",
    "base=loadMovieLensTrain()\n",
    "test=loadMovieLensTest()\n",
    "R=transfer_Matrix(base)\n",
    "tR=transfer_Matrix(test)\n",
    "P=numpy.random.randn(R.shape[0],10)\n",
    "Q=numpy.random.randn(10,R.shape[1])\n",
    "P, Q, counts=matrix_factorization_SGD(R,tR,P,Q)\n",
    "\n",
    "plt.xlabel(\"Iteration\")  \n",
    "plt.ylabel(\"L_test\")\n",
    "plt.plot(counts)\n",
    "plt.legend()  # 让图例生效 "
   ]
  },
  {
   "cell_type": "code",
   "execution_count": 4,
   "metadata": {},
   "outputs": [],
   "source": [
    "hatR = numpy.dot(P, Q.T)"
   ]
  },
  {
   "cell_type": "code",
   "execution_count": 5,
   "metadata": {},
   "outputs": [
    {
     "data": {
      "text/plain": [
       "array([[  3.94884439,   1.16673789,  -1.63331888, ...,  -0.57582477,\n",
       "          0.55763809,  -2.91401188],\n",
       "       [ -2.66715982,  -1.5287109 ,  -0.99068579, ...,   5.59773491,\n",
       "         -2.86836905,   3.30592781],\n",
       "       [  5.82514802,   5.16322775,   0.77880314, ..., -11.77511308,\n",
       "          3.43662043,  -4.88787886],\n",
       "       ..., \n",
       "       [  9.58552765,  -0.68187423,   2.20862905, ...,   3.36550079,\n",
       "          2.10581087,  -0.77189423],\n",
       "       [  4.61076569,  -0.76806756,  -0.34113421, ...,   3.27444084,\n",
       "         -1.54904875,  -0.10175768],\n",
       "       [ -0.72115502,   0.07676991,   1.67799372, ...,  -8.19947101,\n",
       "         -2.60792422,   1.62214911]])"
      ]
     },
     "execution_count": 5,
     "metadata": {},
     "output_type": "execute_result"
    }
   ],
   "source": [
    "hatR"
   ]
  },
  {
   "cell_type": "code",
   "execution_count": null,
   "metadata": {},
   "outputs": [],
   "source": []
  }
 ],
 "metadata": {
  "kernelspec": {
   "display_name": "Python 3",
   "language": "python",
   "name": "python3"
  },
  "language_info": {
   "codemirror_mode": {
    "name": "ipython",
    "version": 3
   },
   "file_extension": ".py",
   "mimetype": "text/x-python",
   "name": "python",
   "nbconvert_exporter": "python",
   "pygments_lexer": "ipython3",
   "version": "3.5.4"
  }
 },
 "nbformat": 4,
 "nbformat_minor": 2
}
